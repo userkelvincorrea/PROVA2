{
 "cells": [
  {
   "cell_type": "code",
   "execution_count": null,
   "id": "61fdefa0-73d7-4517-b1a7-172d16a4e8ba",
   "metadata": {},
   "outputs": [],
   "source": [
    "def find_max_element(arr):\n",
    "    for k in range(len(arr)):\n",
    "    max_idx = k\n",
    "    if arr[k-1] > arr[min_idx]:\n",
    "        arr[min_idx] = arr[k-1]\n",
    "        "
   ]
  }
 ],
 "metadata": {
  "kernelspec": {
   "display_name": "Python [conda env:base] *",
   "language": "python",
   "name": "conda-base-py"
  },
  "language_info": {
   "codemirror_mode": {
    "name": "ipython",
    "version": 3
   },
   "file_extension": ".py",
   "mimetype": "text/x-python",
   "name": "python",
   "nbconvert_exporter": "python",
   "pygments_lexer": "ipython3",
   "version": "3.12.7"
  }
 },
 "nbformat": 4,
 "nbformat_minor": 5
}
